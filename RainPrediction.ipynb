{
 "cells": [
  {
   "cell_type": "code",
   "execution_count": 5,
   "metadata": {},
   "outputs": [],
   "source": [
    "import pandas as pd\n",
    "import numpy as np\n",
    "from sklearn.model_selection import train_test_split\n",
    "from sklearn.linear_model import LinearRegression\n",
    "from sklearn.linear_model import LinearRegression\n",
    "import matplotlib.pyplot as plt"
   ]
  },
  {
   "cell_type": "code",
   "execution_count": 6,
   "metadata": {},
   "outputs": [
    {
     "name": "stdout",
     "output_type": "stream",
     "text": [
      "Index(['name', 'datetime', 'tempmax', 'tempmin', 'temp', 'feelslikemax',\n",
      "       'feelslikemin', 'feelslike', 'dew', 'humidity', 'precip', 'precipprob',\n",
      "       'precipcover', 'preciptype', 'snow', 'snowdepth', 'windgust',\n",
      "       'windspeed', 'winddir', 'sealevelpressure', 'cloudcover', 'visibility',\n",
      "       'solarradiation', 'solarenergy', 'uvindex', 'severerisk', 'sunrise',\n",
      "       'sunset', 'moonphase', 'conditions', 'description', 'icon', 'stations'],\n",
      "      dtype='object')\n",
      "name                 object\n",
      "datetime             object\n",
      "tempmax             float64\n",
      "tempmin             float64\n",
      "temp                float64\n",
      "feelslikemax        float64\n",
      "feelslikemin        float64\n",
      "feelslike           float64\n",
      "dew                 float64\n",
      "humidity            float64\n",
      "precip              float64\n",
      "precipprob          float64\n",
      "precipcover         float64\n",
      "preciptype           object\n",
      "snow                float64\n",
      "snowdepth           float64\n",
      "windgust            float64\n",
      "windspeed           float64\n",
      "winddir             float64\n",
      "sealevelpressure    float64\n",
      "cloudcover          float64\n",
      "visibility          float64\n",
      "solarradiation      float64\n",
      "solarenergy         float64\n",
      "uvindex               int64\n",
      "severerisk            int64\n",
      "sunrise              object\n",
      "sunset               object\n",
      "moonphase           float64\n",
      "conditions           object\n",
      "description          object\n",
      "icon                 object\n",
      "stations             object\n",
      "dtype: object\n"
     ]
    }
   ],
   "source": [
    "# loading the data from csv file to a pandas dataframe\n",
    "\n",
    "Rain_data = pd.read_csv('Rainfall_Data_Germany_Complete.csv')\n",
    "\n",
    "print(Rain_data.columns)\n",
    "print(Rain_data.dtypes)"
   ]
  },
  {
   "cell_type": "code",
   "execution_count": 7,
   "metadata": {},
   "outputs": [],
   "source": [
    "#dropping columns with object type because it can crash the algorithm\n",
    "\n",
    "Rain_data = Rain_data.drop(columns=['datetime', 'preciptype'])  # Example only — use real names from above"
   ]
  },
  {
   "cell_type": "code",
   "execution_count": 8,
   "metadata": {},
   "outputs": [],
   "source": [
    "#important columns with object type will be encoded since its needed for prediction, cant be deleted.\n",
    "Rain_data['name'] = pd.factorize(Rain_data['name'])[0]\n",
    "Rain_data['sunrise'] = pd.factorize(Rain_data['sunrise'])[0]\n",
    "Rain_data['sunset'] = pd.factorize(Rain_data['sunset'])[0]\n",
    "Rain_data['conditions'] = pd.factorize(Rain_data['conditions'])[0]\n",
    "Rain_data['description'] = pd.factorize(Rain_data['description'])[0]\n",
    "Rain_data['icon'] = pd.factorize(Rain_data['icon'])[0]\n",
    "Rain_data['stations'] = pd.factorize(Rain_data['stations'])[0]"
   ]
  },
  {
   "cell_type": "code",
   "execution_count": 9,
   "metadata": {},
   "outputs": [
    {
     "name": "stdout",
     "output_type": "stream",
     "text": [
      "   name  tempmax  tempmin  temp  feelslikemax  feelslikemin  feelslike   dew  \\\n",
      "0     0     41.7     21.0  32.0          37.8          11.2       24.6  25.3   \n",
      "1     0     44.8     32.2  37.4          39.3          26.1       33.3  30.6   \n",
      "2     0     33.2     30.0  32.0          29.0          19.9       23.6  27.9   \n",
      "3     0     30.9     24.4  28.8          29.2          16.7       22.9  25.0   \n",
      "4     0     41.9     25.8  34.0          36.8          17.2       26.9  32.4   \n",
      "\n",
      "   humidity  precip  ...  solarenergy  uvindex  severerisk  sunrise  sunset  \\\n",
      "0      77.3   0.000  ...          3.1        2          10        0       0   \n",
      "1      79.2   0.512  ...          0.4        0          10        1       1   \n",
      "2      84.7   0.027  ...          1.6        2          10        2       2   \n",
      "3      85.4   0.002  ...          0.7        0          10        3       3   \n",
      "4      93.5   0.343  ...          0.5        0          10        4       4   \n",
      "\n",
      "   moonphase  conditions  description  icon  stations  \n",
      "0       0.05           0            0     0         0  \n",
      "1       0.09           1            1     1         1  \n",
      "2       0.13           2            2     1         1  \n",
      "3       0.16           2            3     1         1  \n",
      "4       0.20           1            4     1         1  \n",
      "\n",
      "[5 rows x 31 columns]\n",
      "(3120, 31)\n",
      "name                0\n",
      "tempmax             0\n",
      "tempmin             0\n",
      "temp                0\n",
      "feelslikemax        0\n",
      "feelslikemin        0\n",
      "feelslike           0\n",
      "dew                 0\n",
      "humidity            0\n",
      "precip              0\n",
      "precipprob          0\n",
      "precipcover         0\n",
      "snow                0\n",
      "snowdepth           0\n",
      "windgust            0\n",
      "windspeed           0\n",
      "winddir             0\n",
      "sealevelpressure    0\n",
      "cloudcover          0\n",
      "visibility          0\n",
      "solarradiation      0\n",
      "solarenergy         0\n",
      "uvindex             0\n",
      "severerisk          0\n",
      "sunrise             0\n",
      "sunset              0\n",
      "moonphase           0\n",
      "conditions          0\n",
      "description         0\n",
      "icon                0\n",
      "stations            0\n",
      "dtype: int64\n"
     ]
    }
   ],
   "source": [
    "# printing the first 5 columns of the dataframe\n",
    "R= Rain_data.head()\n",
    "print(R)\n",
    "\n",
    "# number of rows & columns in the dataframe\n",
    "N= Rain_data.shape\n",
    "print(N)\n",
    "\n",
    "# checking for missing values\n",
    "M= Rain_data.isnull().sum()\n",
    "print(M)"
   ]
  },
  {
   "cell_type": "code",
   "execution_count": 10,
   "metadata": {},
   "outputs": [
    {
     "name": "stdout",
     "output_type": "stream",
     "text": [
      "loook\n",
      "[[  0.   41.7  21.  ...   0.    0.    0. ]\n",
      " [  0.   44.8  32.2 ...   1.    1.    1. ]\n",
      " [  0.   33.2  30.  ...   2.    1.    1. ]\n",
      " ...\n",
      " [ 25.   70.8  44.  ...  10.    3.  218. ]\n",
      " [ 25.   73.1  42.7 ...  10.    3.  224. ]\n",
      " [ 25.   78.   48.2 ...   0.    0.   43. ]]\n",
      "[0.    0.512 0.027 ... 0.    0.    0.   ]\n"
     ]
    }
   ],
   "source": [
    "# Now extract features and labels\n",
    "X = Rain_data.drop(columns=['precip']).values  # Replace with your target column name\n",
    "Y = Rain_data['precip'].values\n",
    "\n",
    "print(\"loook\")\n",
    "print(X)\n",
    "print(Y)\n",
    "\n",
    "X_train, X_test, Y_train, Y_test = train_test_split(X, Y, test_size=0.33, random_state = 2)"
   ]
  },
  {
   "cell_type": "code",
   "execution_count": 11,
   "metadata": {},
   "outputs": [
    {
     "name": "stdout",
     "output_type": "stream",
     "text": [
      "weights =  [ 1.98725144e-03  6.27205472e-03  3.43100722e-03 -9.53209936e-03\n",
      " -4.96927982e-04 -8.94822910e-05  5.18710025e-03 -5.53149950e-03\n",
      "  2.93920946e-03 -4.40959733e-04  5.61643143e-03  6.25032675e-02\n",
      "  4.57219760e-03  1.61323726e-03  2.52541299e-04  3.98339058e-06\n",
      " -1.64053931e-04  1.18941086e-04 -1.49734851e-04  3.20005905e-03\n",
      " -3.53828464e-02 -2.29967279e-03 -2.01811893e-03 -1.09335521e-05\n",
      "  4.61312904e-06  2.20644304e-02  2.34927043e-03 -2.75722389e-04\n",
      " -2.64294823e-03 -1.02442379e-04]\n",
      "bias =  -0.10603004018945272\n"
     ]
    }
   ],
   "source": [
    "#Training the Linear Regression model\n",
    "\n",
    "model = LinearRegression()\n",
    "model.fit(X_train, Y_train)\n",
    "# Printing the parameter values (weights & bias)\n",
    "print('weights = ', model.coef_)   # The weights (coefficients) for each feature\n",
    "print('bias = ', model.intercept_) # The bias (intercept)\n"
   ]
  },
  {
   "cell_type": "code",
   "execution_count": 12,
   "metadata": {},
   "outputs": [
    {
     "name": "stdout",
     "output_type": "stream",
     "text": [
      "[ 0.09277662 -0.01664526  0.33132738 ...  0.02499517 -0.00570638\n",
      "  0.01245291]\n"
     ]
    }
   ],
   "source": [
    "test_data_prediction = model.predict(X_test)\n",
    "print(test_data_prediction)\n"
   ]
  },
  {
   "cell_type": "code",
   "execution_count": 13,
   "metadata": {},
   "outputs": [
    {
     "name": "stdout",
     "output_type": "stream",
     "text": [
      "precipcover\n"
     ]
    }
   ],
   "source": [
    "# Its selecting index of the column for x-axis\n",
    "feature_index = 11  # For example, precipcover hence it says about the x axis\n",
    "print(Rain_data.columns[feature_index])\n",
    "X_test_feature = X_test[:, feature_index]"
   ]
  },
  {
   "cell_type": "code",
   "execution_count": 14,
   "metadata": {},
   "outputs": [
    {
     "data": {
      "image/png": "[encoded data removed]",
      "text/plain": [
       "<Figure size 640x480 with 1 Axes>"
      ]
     },
     "metadata": {},
     "output_type": "display_data"
    }
   ],
   "source": [
    "# plot the scatter plot\n",
    "plt.scatter(X_test_feature, Y_test, color='red', label=\"Actual\")\n",
    "\n",
    "# Plot the predictions\n",
    "plt.plot(X_test_feature, test_data_prediction, color='blue', label=\"Predicted\")\n",
    "\n",
    "# Adding labels and title\n",
    "plt.xlabel(Rain_data.columns[feature_index])\n",
    "plt.ylabel('Precipitation (mm)')\n",
    "plt.title('Actual vs Predicted Precipitation')\n",
    "\n",
    "# Add legend\n",
    "plt.legend()\n",
    "\n",
    "# Show the plot\n",
    "plt.show()\n"
   ]
  },
  {
   "cell_type": "code",
   "execution_count": null,
   "metadata": {},
   "outputs": [],
   "source": []
  }
 ],
 "metadata": {
  "kernelspec": {
   "display_name": "Python 3",
   "language": "python",
   "name": "python3"
  },
  "language_info": {
   "codemirror_mode": {
    "name": "ipython",
    "version": 3
   },
   "file_extension": ".py",
   "mimetype": "text/x-python",
   "name": "python",
   "nbconvert_exporter": "python",
   "pygments_lexer": "ipython3",
   "version": "3.13.1"
  }
 },
 "nbformat": 4,
 "nbformat_minor": 2
}
